{
 "cells": [
  {
   "cell_type": "code",
   "execution_count": 56,
   "metadata": {},
   "outputs": [],
   "source": [
    "# Given an unsigned integer return the number of 1 bits it has (Hamming weight)\n",
    "\n",
    "def count_ones(n):\n",
    "    '''\n",
    "    Idea is to do an and operation with 1 and add the result to count and bitwise right shift n by 1\n",
    "    '''\n",
    "    count = 0\n",
    "    while(n):\n",
    "        count += n & 1\n",
    "        print(n)\n",
    "        n >>= 1\n",
    "    return count"
   ]
  },
  {
   "cell_type": "code",
   "execution_count": 57,
   "metadata": {},
   "outputs": [
    {
     "name": "stdout",
     "output_type": "stream",
     "text": [
      "13\n",
      "6\n",
      "3\n",
      "1\n"
     ]
    },
    {
     "data": {
      "text/plain": [
       "3"
      ]
     },
     "execution_count": 57,
     "metadata": {},
     "output_type": "execute_result"
    }
   ],
   "source": [
    "count_ones(13)"
   ]
  },
  {
   "cell_type": "code",
   "execution_count": 58,
   "metadata": {},
   "outputs": [],
   "source": [
    "# Delete the node in a linked list given access to only that node\n",
    "# class Node:\n",
    "#     def __init__(self, v):\n",
    "#         self.val = v\n",
    "#         self.next = None\n",
    "\n",
    "def delete_node(node):\n",
    "    '''\n",
    "    Logic is to copy the data from the next node to the node to be deleted and delete the next node\n",
    "    '''\n",
    "    temp = node.next\n",
    "    node.val = temp.val\n",
    "    node.next = temp.next"
   ]
  },
  {
   "cell_type": "code",
   "execution_count": 79,
   "metadata": {},
   "outputs": [],
   "source": [
    "# A peak element is an element that is greater than its neighbors.\n",
    "# Given an input array nums, where nums[i] ≠ nums[i+1], find a peak element and return its index.\n",
    "# The array may contain multiple peaks, in that case return the index to any one of the peaks is fine.\n",
    "# You may imagine that nums[-1] = nums[n] = -∞.\n",
    "def findPeakElement(nums: list):\n",
    "    return findPeak(nums, 0, len(nums))\n",
    "\n",
    "def findPeak(nums: list, l: int, r: int) -> int:     \n",
    "    mid = l + (r - 1)//2\n",
    "    # if mid is peak\n",
    "    if nums[mid - 1] < nums[mid] and nums[mid] > nums[mid + 1]:\n",
    "        return mid\n",
    "    \n",
    "    # if mid is less than left element\n",
    "    if nums[mid - 1] > nums[mid]:\n",
    "        return findPeak(nums, 0, mid+1)\n",
    "    \n",
    "    # if mid is less than right element\n",
    "    if nums[mid] < nums[mid + 1]:\n",
    "        return findPeak(nums, mid, len(nums) -  1)\n",
    "    "
   ]
  },
  {
   "cell_type": "code",
   "execution_count": 84,
   "metadata": {},
   "outputs": [],
   "source": [
    "# Another approach\n",
    "def findPeakElement(nums: list) -> int:\n",
    "    max = nums[0]\n",
    "    index = 0\n",
    "    for i in range(1, len(nums) - 1):\n",
    "        left = nums[i - 1]\n",
    "        mid = nums[i]\n",
    "        right = nums[i + 1]\n",
    "\n",
    "        if left < mid and mid > right and mid > max:\n",
    "            index = i\n",
    "            max = mid\n",
    "\n",
    "    if nums[len(nums) - 1] > max:\n",
    "        return len(nums) - 1\n",
    "\n",
    "    return index"
   ]
  },
  {
   "cell_type": "code",
   "execution_count": 85,
   "metadata": {},
   "outputs": [
    {
     "data": {
      "text/plain": [
       "3"
      ]
     },
     "execution_count": 85,
     "metadata": {},
     "output_type": "execute_result"
    }
   ],
   "source": [
    "findPeakElement([1, 2, 4, 7, 6])"
   ]
  },
  {
   "cell_type": "code",
   "execution_count": null,
   "metadata": {},
   "outputs": [],
   "source": []
  }
 ],
 "metadata": {
  "kernelspec": {
   "display_name": "Python 3",
   "language": "python",
   "name": "python3"
  },
  "language_info": {
   "codemirror_mode": {
    "name": "ipython",
    "version": 3
   },
   "file_extension": ".py",
   "mimetype": "text/x-python",
   "name": "python",
   "nbconvert_exporter": "python",
   "pygments_lexer": "ipython3",
   "version": "3.7.4"
  }
 },
 "nbformat": 4,
 "nbformat_minor": 2
}
