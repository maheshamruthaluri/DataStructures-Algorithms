{
 "cells": [
  {
   "cell_type": "code",
   "execution_count": 84,
   "metadata": {},
   "outputs": [],
   "source": [
    "# Given an unsigned integer return the number of 1 bits it has (Hamming weight)\n",
    "\n",
    "def count_ones(n):\n",
    "    '''\n",
    "    Idea is to do an and operation with 1 and add the result to count and bitwise right shift n by 1\n",
    "    '''\n",
    "    count = 0\n",
    "    while(n):\n",
    "        count += n & 1\n",
    "        print(n)\n",
    "        n >>= 1\n",
    "    return count"
   ]
  },
  {
   "cell_type": "code",
   "execution_count": 85,
   "metadata": {},
   "outputs": [
    {
     "name": "stdout",
     "output_type": "stream",
     "text": [
      "13\n",
      "6\n",
      "3\n",
      "1\n"
     ]
    },
    {
     "data": {
      "text/plain": [
       "3"
      ]
     },
     "execution_count": 85,
     "metadata": {},
     "output_type": "execute_result"
    }
   ],
   "source": [
    "count_ones(13)"
   ]
  },
  {
   "cell_type": "code",
   "execution_count": 86,
   "metadata": {},
   "outputs": [],
   "source": [
    "# Delete the node in a linked list given access to only that node\n",
    "# class Node:\n",
    "#     def __init__(self, v):\n",
    "#         self.val = v\n",
    "#         self.next = None\n",
    "\n",
    "def delete_node(node):\n",
    "    '''\n",
    "    Logic is to copy the data from the next node to the node to be deleted and delete the next node\n",
    "    '''\n",
    "    temp = node.next\n",
    "    node.val = temp.val\n",
    "    node.next = temp.next"
   ]
  },
  {
   "cell_type": "code",
   "execution_count": 87,
   "metadata": {},
   "outputs": [],
   "source": [
    "# A peak element is an element that is greater than its neighbors.\n",
    "# Given an input array nums, where nums[i] ≠ nums[i+1], find a peak element and return its index.\n",
    "# The array may contain multiple peaks, in that case return the index to any one of the peaks is fine.\n",
    "# You may imagine that nums[-1] = nums[n] = -∞.\n",
    "def findPeakElement(nums: list):\n",
    "    '''\n",
    "    Using binary search style divide the list and search for the peak\n",
    "    \n",
    "    '''\n",
    "    left = 0\n",
    "    right = len(nums) - 1\n",
    "    while(left < right):\n",
    "        mid = left + (right - left) // 2\n",
    "        if (nums[mid] < nums[mid + 1]):\n",
    "            left = mid + 1\n",
    "        else:\n",
    "            right = mid\n",
    "    return mid\n"
   ]
  },
  {
   "cell_type": "code",
   "execution_count": 88,
   "metadata": {},
   "outputs": [],
   "source": [
    "class Solution:\n",
    "    def findPeakElement(self, nums: list) -> int:\n",
    "        left = 0\n",
    "        right = len(nums) - 1\n",
    "        while(left < right):\n",
    "            mid = left + (right - left) // 2\n",
    "            print(left, right, mid)\n",
    "            if (nums[mid] < nums[mid + 1]):\n",
    "                left = mid + 1\n",
    "            else:\n",
    "                right = mid\n",
    "        return left"
   ]
  },
  {
   "cell_type": "code",
   "execution_count": 89,
   "metadata": {},
   "outputs": [
    {
     "name": "stdout",
     "output_type": "stream",
     "text": [
      "0 6 3\n",
      "4 6 5\n",
      "4 5 4\n"
     ]
    },
    {
     "data": {
      "text/plain": [
       "5"
      ]
     },
     "execution_count": 89,
     "metadata": {},
     "output_type": "execute_result"
    }
   ],
   "source": [
    "sol = Solution()\n",
    "sol.findPeakElement([1,2,1,3,5,6,4])"
   ]
  },
  {
   "cell_type": "code",
   "execution_count": 90,
   "metadata": {},
   "outputs": [
    {
     "data": {
      "text/plain": [
       "6"
      ]
     },
     "execution_count": 90,
     "metadata": {},
     "output_type": "execute_result"
    }
   ],
   "source": [
    "\n",
    "# [1,2,3,4]\n",
    "findPeakElement([1, 3, 4, 2, 7, 5, 9, 6])"
   ]
  },
  {
   "cell_type": "code",
   "execution_count": 91,
   "metadata": {},
   "outputs": [],
   "source": [
    "# Another approach\n",
    "def findPeakElement(nums: list) -> int:\n",
    "    max = nums[0]\n",
    "    index = 0\n",
    "    for i in range(1, len(nums) - 1):\n",
    "        left = nums[i - 1]\n",
    "        mid = nums[i]\n",
    "        right = nums[i + 1]\n",
    "\n",
    "        if left < mid and mid > right and mid > max:\n",
    "            index = i\n",
    "            max = mid\n",
    "\n",
    "    if nums[len(nums) - 1] > max:\n",
    "        return len(nums) - 1\n",
    "\n",
    "    return index"
   ]
  },
  {
   "cell_type": "code",
   "execution_count": 92,
   "metadata": {},
   "outputs": [
    {
     "data": {
      "text/plain": [
       "1"
      ]
     },
     "execution_count": 92,
     "metadata": {},
     "output_type": "execute_result"
    }
   ],
   "source": [
    "len([1,2]) // 2"
   ]
  },
  {
   "cell_type": "code",
   "execution_count": 93,
   "metadata": {},
   "outputs": [],
   "source": [
    "# Given a non-empty string check if it can be constructed by taking a substring of it and appending multiple \n",
    "# copies of the substring together. You may assume the given string consists of lowercase English letters \n",
    "# only and its length will not exceed 10000.\n",
    "\n",
    "def findRepeatedString(str: str) -> bool:\n",
    "    return str in (str + str)[1: -1]"
   ]
  },
  {
   "cell_type": "code",
   "execution_count": 94,
   "metadata": {},
   "outputs": [
    {
     "data": {
      "text/plain": [
       "False"
      ]
     },
     "execution_count": 94,
     "metadata": {},
     "output_type": "execute_result"
    }
   ],
   "source": [
    "# a = 'abcdabcdabcdabcd'\n",
    "a = 'ab'\n",
    "findRepeatedString(a)"
   ]
  },
  {
   "cell_type": "code",
   "execution_count": 95,
   "metadata": {},
   "outputs": [],
   "source": [
    "def repeatedSubstringPattern(s: str) -> bool:\n",
    "    '''\n",
    "    loop through the length of the string \n",
    "    if an ith element is equal to the last element of the string, store the substring until the ith element\n",
    "    check if the len(string) mod len(subs) is 0, then append to a list\n",
    "    loop through the list and replace each original string with the each element in the list\n",
    "    If the result is an empty string return True\n",
    "    '''\n",
    "    subStrings = list()\n",
    "    for i in range(len(s) - 1):\n",
    "        if s[i] == s[-1]:\n",
    "            subs = s[:i+1]\n",
    "            print(subs)\n",
    "            if len(s) % len(subs) == 0:\n",
    "                subStrings.append(subs)\n",
    "    for subs in subStrings:\n",
    "        if s.replace(subs, \"\") == \"\":\n",
    "            return True\n",
    "    return False"
   ]
  },
  {
   "cell_type": "code",
   "execution_count": 96,
   "metadata": {},
   "outputs": [
    {
     "name": "stdout",
     "output_type": "stream",
     "text": [
      "abc\n",
      "abcabc\n",
      "abcabcabc\n",
      "True\n"
     ]
    }
   ],
   "source": [
    "test = 'abcabcabcabc'\n",
    "print(repeatedSubstringPattern(test))"
   ]
  },
  {
   "cell_type": "code",
   "execution_count": 97,
   "metadata": {},
   "outputs": [],
   "source": [
    "# step 1: change all the char in uppercase\n",
    "# step 2: traverse the string in a reverse order\n",
    "# step 3: take k words from the end of the string add a - infornt and assign it to a result\n",
    "# step 4: reduce the original string to len - k\n",
    "# step 5: check if the resulting string is less than k, if its true break add the remaining string to result\n",
    "# return result\n",
    "def licenseKeyFormatting(S: str, K: int):\n",
    "    S = S.upper().replace('-', '')\n",
    "    res = ''\n",
    "    while len(S) > 0:\n",
    "        res = '-' + S[-K:] + res\n",
    "        S = S[:len(S) - K]\n",
    "        if len(S) <= K:\n",
    "            res = S + res\n",
    "            break\n",
    "    return res.strip('-')"
   ]
  },
  {
   "cell_type": "code",
   "execution_count": 98,
   "metadata": {},
   "outputs": [
    {
     "ename": "NameError",
     "evalue": "name 'K' is not defined",
     "output_type": "error",
     "traceback": [
      "\u001b[0;31m---------------------------------------------------------------------------\u001b[0m",
      "\u001b[0;31mNameError\u001b[0m                                 Traceback (most recent call last)",
      "\u001b[0;32m<ipython-input-98-17562ff35c4c>\u001b[0m in \u001b[0;36m<module>\u001b[0;34m\u001b[0m\n\u001b[1;32m      2\u001b[0m \u001b[0mk\u001b[0m \u001b[0;34m=\u001b[0m \u001b[0;36m4\u001b[0m\u001b[0;34m\u001b[0m\u001b[0;34m\u001b[0m\u001b[0m\n\u001b[1;32m      3\u001b[0m \u001b[0;31m# \"5F3Z-2e9w\"\u001b[0m\u001b[0;34m\u001b[0m\u001b[0;34m\u001b[0m\u001b[0;34m\u001b[0m\u001b[0m\n\u001b[0;32m----> 4\u001b[0;31m \u001b[0mlicenseKeyFormatting\u001b[0m\u001b[0;34m(\u001b[0m\u001b[0mS\u001b[0m\u001b[0;34m,\u001b[0m \u001b[0mK\u001b[0m\u001b[0;34m)\u001b[0m\u001b[0;34m\u001b[0m\u001b[0;34m\u001b[0m\u001b[0m\n\u001b[0m",
      "\u001b[0;31mNameError\u001b[0m: name 'K' is not defined"
     ]
    }
   ],
   "source": [
    "S = \"r\"\n",
    "k = 4\n",
    "# \"5F3Z-2e9w\"\n",
    "licenseKeyFormatting(S, K)"
   ]
  },
  {
   "cell_type": "code",
   "execution_count": null,
   "metadata": {},
   "outputs": [],
   "source": [
    "S[-4:]"
   ]
  },
  {
   "cell_type": "code",
   "execution_count": null,
   "metadata": {},
   "outputs": [],
   "source": [
    "file_path = \"dir\\n\\tsubdir1\\n\\t\\tfile1.ext\\n\\t\\tsubsubdir1\\n\\tsubdir2\\n\\t\\tsubsubdir2\\n\\t\\t\\tfile2.ext\"\n",
    "\n",
    "def lengthLongestPath(input: str):\n",
    "    level = {-1: 0}\n",
    "    max_len = 0\n",
    "    for line in input.split('\\n'):\n",
    "        # Count the depth by counting the number of \\t's\n",
    "        depth = line.count('\\t')\n",
    "        # Store the len of each line(directory or file) with its previous directory\n",
    "        level[depth] = len(line) - depth + level[depth - 1]\n",
    "        # if its a file then count the length \n",
    "        if '.' in line:\n",
    "            #compare max_length with the value of level[depth] and add depth to it as we need / separating dirs\n",
    "            max_len = max(max_len, (level[depth] + depth))\n",
    "    return max_len"
   ]
  },
  {
   "cell_type": "code",
   "execution_count": null,
   "metadata": {},
   "outputs": [],
   "source": [
    "lengthLongestPath(file_path)"
   ]
  },
  {
   "cell_type": "code",
   "execution_count": null,
   "metadata": {},
   "outputs": [],
   "source": [
    "depth = '\\tsubdir1'.count('\\t')\n",
    "len('file1.ext')"
   ]
  },
  {
   "cell_type": "code",
   "execution_count": null,
   "metadata": {},
   "outputs": [],
   "source": [
    "def moveZeroes(lis):\n",
    "    counter = 0\n",
    "    for i in lis:\n",
    "        if i != 0:\n",
    "            lis[counter]= i\n",
    "            counter += 1\n",
    "    for i in range(counter, len(lis)):\n",
    "        lis[i] = 0"
   ]
  },
  {
   "cell_type": "code",
   "execution_count": null,
   "metadata": {},
   "outputs": [],
   "source": [
    "nums = [0,0,1,0,3,12]\n",
    "moveZeroes(nums)\n",
    "nums"
   ]
  },
  {
   "cell_type": "code",
   "execution_count": null,
   "metadata": {},
   "outputs": [],
   "source": [
    "nums = [0,0,1,0,3,12]\n",
    "nums.pop(0)\n",
    "nums"
   ]
  },
  {
   "cell_type": "markdown",
   "metadata": {},
   "source": [
    "Given a string, find the length of the longest substring without repeating characters.\n",
    "\n",
    "Example 1:\n",
    "\n",
    "Input: \"abcabcbb\"\n",
    "Output: 3 \n",
    "Explanation: The answer is \"abc\", with the length of 3. "
   ]
  },
  {
   "cell_type": "code",
   "execution_count": 82,
   "metadata": {},
   "outputs": [],
   "source": [
    "def lengthOfLongestSubstring(s: str):\n",
    "    letters = set()\n",
    "    i = 0\n",
    "    j = 0\n",
    "    max_len = 0\n",
    "    while( i < len(s) and j < len(s)):\n",
    "        # add letters of s into a set and keep a count\n",
    "        if s[j] not in letters:\n",
    "            letters.add(s[j])\n",
    "            j += 1\n",
    "            # Calculate the max length of the string with non repeated characters in each iteration\n",
    "            max_len = max(max_len, (j-i))\n",
    "            print(max_len)\n",
    "        else:\n",
    "            letters.remove(s[i])\n",
    "            i += 1\n",
    "    return max_len"
   ]
  },
  {
   "cell_type": "code",
   "execution_count": 83,
   "metadata": {},
   "outputs": [
    {
     "name": "stdout",
     "output_type": "stream",
     "text": [
      "1\n",
      "2\n",
      "2\n",
      "2\n",
      "3\n",
      "3\n"
     ]
    },
    {
     "data": {
      "text/plain": [
       "3"
      ]
     },
     "execution_count": 83,
     "metadata": {},
     "output_type": "execute_result"
    }
   ],
   "source": [
    "s = 'pwwkew'\n",
    "lengthOfLongestSubstring(s)"
   ]
  },
  {
   "cell_type": "code",
   "execution_count": 81,
   "metadata": {},
   "outputs": [
    {
     "name": "stdout",
     "output_type": "stream",
     "text": [
      "{'b', 'a', 'c'}\n"
     ]
    }
   ],
   "source": [
    "l = {'d', 'b', 'a', 'c'}\n",
    "l.remove('d')\n",
    "print(l)"
   ]
  },
  {
   "cell_type": "code",
   "execution_count": null,
   "metadata": {},
   "outputs": [],
   "source": []
  }
 ],
 "metadata": {
  "kernelspec": {
   "display_name": "Python 3",
   "language": "python",
   "name": "python3"
  },
  "language_info": {
   "codemirror_mode": {
    "name": "ipython",
    "version": 3
   },
   "file_extension": ".py",
   "mimetype": "text/x-python",
   "name": "python",
   "nbconvert_exporter": "python",
   "pygments_lexer": "ipython3",
   "version": "3.7.4"
  }
 },
 "nbformat": 4,
 "nbformat_minor": 2
}
